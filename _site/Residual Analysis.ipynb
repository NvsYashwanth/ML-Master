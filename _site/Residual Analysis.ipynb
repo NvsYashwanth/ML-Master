{
 "cells": [
  {
   "cell_type": "code",
   "execution_count": 51,
   "metadata": {},
   "outputs": [],
   "source": [
    "import numpy as np \n",
    "import matplotlib.pyplot as plt\n",
    "import seaborn as sns\n",
    "color = sns.color_palette()\n",
    "sns.set_style('darkgrid')"
   ]
  },
  {
   "cell_type": "code",
   "execution_count": 54,
   "metadata": {},
   "outputs": [],
   "source": [
    "x=np.array([1,7,3,4,7,12,13])\n",
    "y=np.array([3,2,8,6,10,15,20])"
   ]
  },
  {
   "cell_type": "code",
   "execution_count": 64,
   "metadata": {},
   "outputs": [
    {
     "data": {
      "image/png": "[encoded data removed]",
      "text/plain": [
       "<Figure size 432x288 with 1 Axes>"
      ]
     },
     "metadata": {},
     "output_type": "display_data"
    }
   ],
   "source": [
    "sns.scatterplot(x=x,y=y)\n",
    "\n",
    "plt.show()"
   ]
  },
  {
   "cell_type": "markdown",
   "metadata": {},
   "source": [
    "# Observations\n",
    "- There could be may straight lines that could fit the data\n",
    "- But how do we decide what fit is perfect"
   ]
  },
  {
   "cell_type": "markdown",
   "metadata": {},
   "source": [
    "### Let us fit a straight line y=mx+c"
   ]
  },
  {
   "cell_type": "code",
   "execution_count": 66,
   "metadata": {},
   "outputs": [
    {
     "data": {
      "image/png": "[encoded data removed]",
      "text/plain": [
       "<Figure size 432x288 with 1 Axes>"
      ]
     },
     "metadata": {},
     "output_type": "display_data"
    }
   ],
   "source": [
    "sns.scatterplot(x=x,y=y)\n",
    "plt.plot(x, 2.343 + 1.34 *x, 'r')\n",
    "plt.show()"
   ]
  },
  {
   "cell_type": "markdown",
   "metadata": {},
   "source": [
    "### To solve this problem lets us. take the residuals of the data points\n"
   ]
  },
  {
   "cell_type": "markdown",
   "metadata": {},
   "source": [
    "## What are residuals\n",
    "- Before we jump into the defination of the term residual let us understand it\n",
    "- If we were to calculate the residual for the point x=4 it would be (y_actual - y_pred) that would be (6-7.5)= - 1.5\n",
    "- Now this is the error at the point x=4\n",
    "- From now on lets us denote for every point the error to be $e_i$ = $ y_i - y_{pred} $ "
   ]
  },
  {
   "cell_type": "markdown",
   "metadata": {},
   "source": [
    "### Ordinary least squares"
   ]
  },
  {
   "cell_type": "markdown",
   "metadata": {},
   "source": [
    "- Generally to decide what could be the best criterion to fit the best line we use the ordinary least squares method\n",
    "- If we say $e^{2}_{1}$ to be the error at the first data point then $e^{2}_{1}$ + $e^{2}_{2}$ + $e^{2}_{3}$ + .....+ $e^{2}_{n}$ would be error summation for all the data points\n",
    "- Now this is the sum of squares we would like to minimize and pick up the best values i.e., Slope and the intercept for our linear fit\n",
    "- This is known as Residual Sum of Squares"
   ]
  },
  {
   "cell_type": "markdown",
   "metadata": {},
   "source": [
    "## Residual Sum of Squares (RSS)\n",
    "- If we were to write the sum of squares in terms of the Straight line ie.,(y=mx+c) we get\n",
    "- RSS= ($Y_{1}$ - $ m*x_{1}-c $ )^2 + ($Y_{2}$ - $ m*x_{2}-c $ )^2 + ($Y_{2}$ - $ m*x_{3}-c $ )^2 + ....... +($Y_{n}$ - $ m*x_{n}-c $ )^2"
   ]
  },
  {
   "cell_type": "markdown",
   "metadata": {},
   "source": [
    "## Minimizing the cost function\n",
    "- There are different ways to minimize the RSS i.e., \n",
    "- Differentiation\n",
    "- Gradient Descent"
   ]
  },
  {
   "cell_type": "markdown",
   "metadata": {},
   "source": [
    "### These methods give us the optimal parameters i.e., Slope and Intercept to fit the data"
   ]
  },
  {
   "cell_type": "code",
   "execution_count": null,
   "metadata": {},
   "outputs": [],
   "source": []
  }
 ],
 "metadata": {
  "kernelspec": {
   "display_name": "Python 3",
   "language": "python",
   "name": "python3"
  },
  "language_info": {
   "codemirror_mode": {
    "name": "ipython",
    "version": 3
   },
   "file_extension": ".py",
   "mimetype": "text/x-python",
   "name": "python",
   "nbconvert_exporter": "python",
   "pygments_lexer": "ipython3",
   "version": "3.8.1"
  }
 },
 "nbformat": 4,
 "nbformat_minor": 4
}
